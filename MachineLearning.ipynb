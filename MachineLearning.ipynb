{
 "cells": [
  {
   "cell_type": "code",
   "execution_count": 1,
   "metadata": {
    "colab": {},
    "colab_type": "code",
    "id": "hdn_UYdF83yz"
   },
   "outputs": [],
   "source": [
    "import numpy as np\n",
    "import pandas as pd\n",
    "from sklearn.feature_extraction.text import TfidfVectorizer\n",
    "from sklearn.svm import SVC  #importing machine learning classification algorithm\n",
    "import random\n",
    "import pickle"
   ]
  },
  {
   "cell_type": "code",
   "execution_count": 2,
   "metadata": {
    "colab": {},
    "colab_type": "code",
    "id": "w0GenN9383y2"
   },
   "outputs": [],
   "source": [
    "# training data\n",
    "data = [[\"Do you have Tin in your shop?\",1],[\"Do you have tank in your shop?\",1],[\"Do you have vacancy?\",0],['Hey',0]]"
   ]
  },
  {
   "cell_type": "code",
   "execution_count": 3,
   "metadata": {
    "colab": {},
    "colab_type": "code",
    "id": "WEBbnBJ-83y5"
   },
   "outputs": [],
   "source": [
    "#converting it into pandas dataframe\n",
    "df = pd.DataFrame(data, columns = ['text', 'intent'])"
   ]
  },
  {
   "cell_type": "code",
   "execution_count": null,
   "metadata": {
    "colab": {
     "base_uri": "https://localhost:8080/",
     "height": 166
    },
    "colab_type": "code",
    "id": "B4tNni2d83y7",
    "outputId": "902ac8d4-c4be-48d6-d34c-9d1751506dbd"
   },
   "outputs": [
    {
     "data": {
      "text/html": [
       "<div>\n",
       "<style scoped>\n",
       "    .dataframe tbody tr th:only-of-type {\n",
       "        vertical-align: middle;\n",
       "    }\n",
       "\n",
       "    .dataframe tbody tr th {\n",
       "        vertical-align: top;\n",
       "    }\n",
       "\n",
       "    .dataframe thead th {\n",
       "        text-align: right;\n",
       "    }\n",
       "</style>\n",
       "<table border=\"1\" class=\"dataframe\">\n",
       "  <thead>\n",
       "    <tr style=\"text-align: right;\">\n",
       "      <th></th>\n",
       "      <th>text</th>\n",
       "      <th>intent</th>\n",
       "    </tr>\n",
       "  </thead>\n",
       "  <tbody>\n",
       "    <tr>\n",
       "      <th>0</th>\n",
       "      <td>Do you have Tin in your shop?</td>\n",
       "      <td>1</td>\n",
       "    </tr>\n",
       "    <tr>\n",
       "      <th>1</th>\n",
       "      <td>Do you have tank in your shop?</td>\n",
       "      <td>1</td>\n",
       "    </tr>\n",
       "    <tr>\n",
       "      <th>2</th>\n",
       "      <td>Do you have vacancy?</td>\n",
       "      <td>0</td>\n",
       "    </tr>\n",
       "    <tr>\n",
       "      <th>3</th>\n",
       "      <td>Hey</td>\n",
       "      <td>0</td>\n",
       "    </tr>\n",
       "  </tbody>\n",
       "</table>\n",
       "</div>"
      ],
      "text/plain": [
       "                             text  intent\n",
       "0   Do you have Tin in your shop?       1\n",
       "1  Do you have tank in your shop?       1\n",
       "2            Do you have vacancy?       0\n",
       "3                             Hey       0"
      ]
     },
     "execution_count": 4,
     "metadata": {
      "tags": []
     },
     "output_type": "execute_result"
    }
   ],
   "source": [
    "df   #1 -> availability and 0 -> greeting"
   ]
  },
  {
   "cell_type": "code",
   "execution_count": null,
   "metadata": {
    "colab": {},
    "colab_type": "code",
    "id": "gqUxmIMv83y-"
   },
   "outputs": [],
   "source": [
    "x = df['text']   #seperating x from data\n",
    "y = df['intent']   # seperating y from data (intents are encoded into numbers as machine can only predict numbers)"
   ]
  },
  {
   "cell_type": "code",
   "execution_count": null,
   "metadata": {
    "colab": {},
    "colab_type": "code",
    "id": "xfupatkX83zF"
   },
   "outputs": [],
   "source": [
    "vectorizer = TfidfVectorizer()\n",
    "X = vectorizer.fit_transform(x)  # X has tfidfed vectors"
   ]
  },
  {
   "cell_type": "code",
   "execution_count": null,
   "metadata": {
    "colab": {},
    "colab_type": "code",
    "id": "qqbLsSxD83zK"
   },
   "outputs": [],
   "source": [
    "clf  = SVC() #initializing the classifier  support vector macchine"
   ]
  },
  {
   "cell_type": "code",
   "execution_count": null,
   "metadata": {
    "colab": {
     "base_uri": "https://localhost:8080/",
     "height": 84
    },
    "colab_type": "code",
    "id": "PVq2OakS83zQ",
    "outputId": "66657b86-8f63-43ef-edbd-0040edbdcc99"
   },
   "outputs": [
    {
     "data": {
      "text/plain": [
       "SVC(C=1.0, break_ties=False, cache_size=200, class_weight=None, coef0=0.0,\n",
       "    decision_function_shape='ovr', degree=3, gamma='scale', kernel='rbf',\n",
       "    max_iter=-1, probability=False, random_state=None, shrinking=True,\n",
       "    tol=0.001, verbose=False)"
      ]
     },
     "execution_count": 63,
     "metadata": {
      "tags": []
     },
     "output_type": "execute_result"
    }
   ],
   "source": [
    "clf.fit(X,y) #creating the model. after fitting model is ready"
   ]
  },
  {
   "cell_type": "code",
   "execution_count": null,
   "metadata": {
    "colab": {},
    "colab_type": "code",
    "id": "8LzxLpf883zU"
   },
   "outputs": [],
   "source": [
    "text_test = [\"Can i work in your shop?\"]   #let's test it on test data. Keep test data into array"
   ]
  },
  {
   "cell_type": "code",
   "execution_count": null,
   "metadata": {
    "colab": {},
    "colab_type": "code",
    "id": "vcrvP5pc83zW"
   },
   "outputs": [],
   "source": [
    "X_test = vectorizer.transform(text_test) #converting text data into vectors"
   ]
  },
  {
   "cell_type": "code",
   "execution_count": null,
   "metadata": {
    "colab": {},
    "colab_type": "code",
    "id": "-X3uWb0s83za"
   },
   "outputs": [],
   "source": [
    "prediction = clf.predict(X_test) #predicting"
   ]
  },
  {
   "cell_type": "code",
   "execution_count": null,
   "metadata": {
    "colab": {
     "base_uri": "https://localhost:8080/",
     "height": 34
    },
    "colab_type": "code",
    "id": "3Qmy0B_w83zc",
    "outputId": "bec4d223-01e8-44ac-894b-d553c6817dd9"
   },
   "outputs": [
    {
     "name": "stdout",
     "output_type": "stream",
     "text": [
      "[1]\n"
     ]
    }
   ],
   "source": [
    "print(prediction) #yes we predicted it right"
   ]
  },
  {
   "cell_type": "markdown",
   "metadata": {
    "colab_type": "text",
    "id": "lwVV7iBF83zf"
   },
   "source": [
    "<h3>Saving and loading the model</h3>"
   ]
  },
  {
   "cell_type": "code",
   "execution_count": null,
   "metadata": {
    "colab": {},
    "colab_type": "code",
    "id": "rURwHv_683zf"
   },
   "outputs": [],
   "source": [
    "pickle.dump(clf,open(\"model.pkl\", 'wb')) #saving"
   ]
  },
  {
   "cell_type": "code",
   "execution_count": null,
   "metadata": {
    "colab": {},
    "colab_type": "code",
    "id": "lET4vI5-83zi"
   },
   "outputs": [],
   "source": [
    "load_model = pickle.load(open(\"model.pkl\", 'rb')) #loading"
   ]
  },
  {
   "cell_type": "code",
   "execution_count": null,
   "metadata": {
    "colab": {},
    "colab_type": "code",
    "id": "VzFAyXpX83zk",
    "outputId": "00935f92-2efd-46d3-fc37-aa65feaa0e7d"
   },
   "outputs": [
    {
     "data": {
      "text/plain": [
       "array([1], dtype=int64)"
      ]
     },
     "execution_count": 20,
     "metadata": {
      "tags": []
     },
     "output_type": "execute_result"
    }
   ],
   "source": [
    "load_model.predict(X_test) #predicting using loaded model"
   ]
  },
  {
   "cell_type": "markdown",
   "metadata": {
    "colab_type": "text",
    "id": "rKe0vOzD83zn"
   },
   "source": [
    "<h3>MINI Dataset</h3>"
   ]
  },
  {
   "cell_type": "code",
   "execution_count": null,
   "metadata": {
    "colab": {},
    "colab_type": "code",
    "id": "F8LRhw8R83zo"
   },
   "outputs": [],
   "source": [
    "responses = {0 : {\"intent\":\"greetings\",\"response\":['Hi dear','How are you?','Watsupp dude']}, \n",
    "      1 : {\"intent\":\"availability\",\"response\":['Yes Yes it is available ','Yes seats are available',\n",
    "                                               'Ofcourse there are seats for you']}}"
   ]
  },
  {
   "cell_type": "markdown",
   "metadata": {
    "colab_type": "text",
    "id": "ShJ8v9h783zq"
   },
   "source": [
    "<h1>After training deploying model for chatbot</h1>"
   ]
  },
  {
   "cell_type": "code",
   "execution_count": null,
   "metadata": {
    "colab": {},
    "colab_type": "code",
    "id": "yaZWWU5x83zq"
   },
   "outputs": [],
   "source": [
    "def response(user_response):\n",
    "    text_test = [user_response]\n",
    "    X_test = vectorizer.transform(text_test)\n",
    "    prediction = clf.predict(X_test)\n",
    "    reply = random.choice(responses[prediction[0]][\"response\"])\n",
    "    return reply"
   ]
  },
  {
   "cell_type": "code",
   "execution_count": null,
   "metadata": {
    "colab": {},
    "colab_type": "code",
    "id": "SN11uz_b83zt",
    "outputId": "bf3a76f6-1c84-44e5-f55a-f62b55b06730"
   },
   "outputs": [
    {
     "name": "stdout",
     "output_type": "stream",
     "text": [
      "MAD: My name is MADbot. I will answer everything about myself. If you want to exit, type Bye!\n",
      "bye\n",
      "MAD: Bye! Stay MAD Stay Creative.\n"
     ]
    }
   ],
   "source": [
    "flag=True\n",
    "print(\"MAD: My name is MADbot. I will answer everything about myself. If you want to exit, type Bye!\")\n",
    "while(flag==True):\n",
    "    user_response = input()\n",
    "    user_response=user_response.lower()\n",
    "    if(user_response!='bye'):\n",
    "        if(user_response=='thanks' or user_response=='thank you' ):\n",
    "            flag=False\n",
    "            print(\"MAD: You are welcome..\")\n",
    "        else:\n",
    "            print(\"MAD: \",end=\"\")\n",
    "            print(response(user_response))        \n",
    "    else:\n",
    "        flag=False\n",
    "        print(\"MAD: Bye! Stay MAD Stay Creative.\")"
   ]
  },
  {
   "cell_type": "markdown",
   "metadata": {
    "colab_type": "text",
    "id": "CEsKbzEe83zv"
   },
   "source": [
    "<h1>Stay MAD Stay Creative</h1>"
   ]
  },
  {
   "cell_type": "markdown",
   "metadata": {
    "colab_type": "text",
    "id": "WUhnU1kk83zv"
   },
   "source": [
    "<h1 style='color:blue'>We Are MAD & We All Deserve Better</h1>"
   ]
  },
  {
   "cell_type": "code",
   "execution_count": null,
   "metadata": {
    "colab": {},
    "colab_type": "code",
    "id": "nz4L1sMf83zw"
   },
   "outputs": [],
   "source": []
  }
 ],
 "metadata": {
  "colab": {
   "name": "Machine_Learning_bot.ipynb",
   "provenance": []
  },
  "kernelspec": {
   "display_name": "Python 3",
   "language": "python",
   "name": "python3"
  },
  "language_info": {
   "codemirror_mode": {
    "name": "ipython",
    "version": 3
   },
   "file_extension": ".py",
   "mimetype": "text/x-python",
   "name": "python",
   "nbconvert_exporter": "python",
   "pygments_lexer": "ipython3",
   "version": "3.7.6"
  }
 },
 "nbformat": 4,
 "nbformat_minor": 1
}
